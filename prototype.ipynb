{
 "cells": [
  {
   "cell_type": "code",
   "execution_count": null,
   "id": "bf0aaa05-903c-4c7a-b817-d70586126764",
   "metadata": {},
   "outputs": [],
   "source": [
    "from itertools import product\n",
    "import numpy as np\n",
    "from sklearn.linear_model import LinearRegression\n",
    "from scipy.special import comb\n",
    "from math import comb as comb_math"
   ]
  },
  {
   "cell_type": "code",
   "execution_count": null,
   "id": "01b3d9c0-33a6-482f-a13e-57041c244fbf",
   "metadata": {},
   "outputs": [],
   "source": [
    "# Generate data\n",
    "np.random.seed(seed=5)\n",
    "p = 2\n",
    "n = 1000\n",
    "total_subsets = 2 ** p\n",
    "total_individuals = total_subsets\n",
    "ones = np.full(shape=(n, 1), fill_value=1)\n",
    "X = np.random.normal(loc=0, scale=1, size=(n, p))\n",
    "\n",
    "X_intercept = np.concatenate((ones, X), axis=1)\n",
    "beta = np.reshape(np.arange(1, p+2), newshape=(p+1, 1))\n",
    "#beta = beta[[0, 2, 1], :]\n",
    "y = np.matmul(X_intercept, beta) + np.random.normal(loc=0, scale=1, size=(n, 1))\n",
    "beta_hat = np.matmul(np.matmul(np.linalg.inv(np.matmul(X_intercept.T, X_intercept)), X_intercept.T), y)\n",
    "print('X: \\n', X[:3, ])\n",
    "print('beta_real:\\n', beta)\n",
    "print('beta_hat:\\n', beta_hat)"
   ]
  },
  {
   "cell_type": "code",
   "execution_count": null,
   "id": "9da023e7-0131-4056-87ba-bab9f183a01c",
   "metadata": {},
   "outputs": [],
   "source": [
    "# Point to be described\n",
    "x_new = np.array([[2, 2]])\n",
    "x_new_intercept = np.concatenate((np.array([1], ndmin=2), x_new), axis=1)\n",
    "print(x_new_intercept)"
   ]
  },
  {
   "cell_type": "code",
   "execution_count": null,
   "id": "dd8b0eda-4fe8-417e-acbe-3e8fc5ad5725",
   "metadata": {},
   "outputs": [],
   "source": [
    "# Black box model\n",
    "linear_model = LinearRegression(fit_intercept=True)\n",
    "linear_model = linear_model.fit(X, y)"
   ]
  },
  {
   "cell_type": "code",
   "execution_count": null,
   "id": "b7fe2a85-5d92-4dfd-9967-c25ed6d54d0c",
   "metadata": {},
   "outputs": [],
   "source": [
    "print('real betas:\\n', beta)\n",
    "print('intercept:', linear_model.intercept_)\n",
    "print('coef:', linear_model.coef_)\n",
    "print('real vale for x_new:', np.dot(x_new_intercept, beta))\n",
    "print('predicted value for x_new:', linear_model.predict(x_new))"
   ]
  },
  {
   "cell_type": "code",
   "execution_count": null,
   "id": "d1726454-90a4-460e-af2d-83b911df8ade",
   "metadata": {},
   "outputs": [],
   "source": [
    "# Obtain matrix Z\n",
    "def obtain_Z(num_features, total_individuals):\n",
    "    all_subsets = product([0, 1], repeat=p)\n",
    "    idx_individuals = np.random.choice(a=2**num_features, size=total_individuals, replace=False)\n",
    "    list_individuals = [x for i, x in enumerate(all_subsets) if i in idx_individuals]\n",
    "    Z = np.array(list_individuals, dtype=int)\n",
    "    total_ones_Z = np.sum(Z, axis=1)\n",
    "    idx_non_zeros_Z = np.where(total_ones_Z>0)\n",
    "    idx_non_zeros_Z = idx_non_zeros_Z[0]\n",
    "    Z_filtered = Z[idx_non_zeros_Z, :]\n",
    "    return Z_filtered\n",
    "Z = obtain_Z(p, total_individuals)\n",
    "print(Z)"
   ]
  },
  {
   "cell_type": "code",
   "execution_count": null,
   "id": "9094e164-bb8a-4e48-b103-e915d8cf64b5",
   "metadata": {},
   "outputs": [],
   "source": [
    "# Obtain matrix H\n",
    "# TO DO: run this in parallel\n",
    "def obtain_H(Z, data, x_new, verbose=False):\n",
    "    n_rows_data = data.shape[0]\n",
    "    p = Z.shape[1]\n",
    "    idx_columns = range(p)\n",
    "    ones_vector = np.full(shape=(n_rows_data, 1), fill_value=1)\n",
    "    n_rows_Z = Z.shape[0]\n",
    "    H = np.empty(shape=(n_rows_Z, p))\n",
    "\n",
    "    if verbose:\n",
    "        print('Z:\\n', Z)\n",
    "        print('data:\\n', data[:3, ])\n",
    "        print('initial H:\\n', H)\n",
    "        print('x_new:\\n', x_new)\n",
    "        print('---------------------')\n",
    "\n",
    "    for i_z, z in enumerate(Z):\n",
    "        total_ones = np.sum(z)\n",
    "        if total_ones < p:\n",
    "            if verbose:\n",
    "                print('z:\\n', z)\n",
    "            # Build X\n",
    "            idx_x = np.where(z == 1)\n",
    "            idx_x = idx_x[0]\n",
    "            X = data[:, idx_x]\n",
    "            X_intercept = np.concatenate((ones_vector, X), axis=1)\n",
    "            if verbose:\n",
    "                print('X:\\n', X[:3, :])\n",
    "            idx_y = np.where(z == 0)\n",
    "            idx_y = idx_y[0]\n",
    "            Y = data[:, idx_y]\n",
    "            if verbose:\n",
    "                print('Y:\\n', Y[:3, :])\n",
    "            beta = np.matmul(np.matmul(np.linalg.inv(np.matmul(X_intercept.T, X_intercept)), X_intercept.T), Y)\n",
    "            x_from_x_new = x_new[:, idx_x]\n",
    "            x_from_x_new_intercept = np.concatenate(([[1]], x_from_x_new), axis=1)\n",
    "            prediction = np.matmul(x_from_x_new_intercept, beta)\n",
    "            idx = np.concatenate((idx_x, idx_y))\n",
    "            h = np.concatenate((x_from_x_new, prediction))\n",
    "            h_sort = np.reshape(h[np.argsort(idx)], newshape=(1, -1))\n",
    "\n",
    "            if verbose:\n",
    "                print('beta:\\n', beta)\n",
    "                print('x_from_x_new:\\n', x_from_x_new)\n",
    "                print('x_from_x_new_intercept:\\n', x_from_x_new_intercept)\n",
    "                print('prediction:\\n', prediction)\n",
    "                print('idx_x:\\n', idx_x)\n",
    "                print('idx_y:\\n', idx_y)\n",
    "                print('idx:\\n', idx)\n",
    "                print('h:\\n', h)\n",
    "        else:\n",
    "            h_sort = np.copy(x_new)\n",
    "\n",
    "        if verbose:\n",
    "            print('h_sort:\\n', h_sort)\n",
    "            print('---------------------')\n",
    "        H[i_z] = h_sort\n",
    "    if verbose:\n",
    "        print('Final H:\\n', H)\n",
    "    return H\n",
    "H = obtain_H(Z, X, x_new, verbose=False)"
   ]
  },
  {
   "cell_type": "code",
   "execution_count": null,
   "id": "ac9874ab-df1a-4fc0-af44-3367dac824ce",
   "metadata": {},
   "outputs": [],
   "source": [
    "print(Z)\n",
    "print(H)"
   ]
  },
  {
   "cell_type": "code",
   "execution_count": null,
   "id": "71102ffd-79b0-4cda-9655-62828139d131",
   "metadata": {},
   "outputs": [],
   "source": [
    "# TO DO: run this in parallel\n",
    "def calculate_comb(p, k):\n",
    "    num = p - 1\n",
    "    den = comb_math(p, k) * k * (p - k)\n",
    "\n",
    "    return num/den\n",
    "\n",
    "def get_importance(Z, H, data, predict_fn):\n",
    "    num_features = data.shape[1]\n",
    "    w = []\n",
    "    inf_value = 1e9\n",
    "\n",
    "    Y = predict_fn(H)\n",
    "    y_all = np.reshape(np.mean(predict_fn(data)), newshape=(1, 1))\n",
    "    Y_concat = np.concatenate((Y, y_all))\n",
    "    Y_centered = Y_concat - y_all\n",
    "\n",
    "    z_void = np.zeros(shape=(1, num_features))\n",
    "    Z_concat = np.concatenate((Z, z_void))\n",
    "    \n",
    "    S = np.sum(Z_concat, axis=1, dtype=np.int64)\n",
    "    w = [inf_value if s == 0 or s == num_features else calculate_comb(num_features, s) for s in S]\n",
    "    W = np.diag(w)\n",
    "\n",
    "    importance = np.matmul(np.matmul(np.matmul(np.linalg.inv(np.matmul(np.matmul(Z_concat.T, W), Z_concat)), Z_concat.T), W), Y_centered)\n",
    "    return importance\n",
    "\n",
    "importance = get_importance(Z, H, X, linear_model.predict)\n",
    "print(importance)"
   ]
  },
  {
   "cell_type": "code",
   "execution_count": null,
   "id": "1145c8ae-4a94-4d70-a673-b51ec61525e0",
   "metadata": {},
   "outputs": [],
   "source": [
    "print('individual importance:\\n', importance)\n",
    "print('aggregated importnace:\\n', np.sum(importance))\n",
    "x_new_beta = [x * b for x, b in zip(x_new[0], beta[1:])]\n",
    "print('x_new * beta:\\n', x_new_beta)\n",
    "print('predicted value for x_new - mean value:\\n', linear_model.predict(x_new) - np.mean(linear_model.predict(X)))"
   ]
  }
 ],
 "metadata": {
  "kernelspec": {
   "display_name": "ghostSHAP",
   "language": "python",
   "name": "ghostshap"
  },
  "language_info": {
   "codemirror_mode": {
    "name": "ipython",
    "version": 3
   },
   "file_extension": ".py",
   "mimetype": "text/x-python",
   "name": "python",
   "nbconvert_exporter": "python",
   "pygments_lexer": "ipython3",
   "version": "3.9.7"
  }
 },
 "nbformat": 4,
 "nbformat_minor": 5
}
