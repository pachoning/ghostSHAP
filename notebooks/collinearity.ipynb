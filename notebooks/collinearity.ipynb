{
 "cells": [
  {
   "cell_type": "code",
   "execution_count": null,
   "metadata": {},
   "outputs": [],
   "source": [
    "import os\n",
    "cwd = os.getcwd()\n",
    "nwd = os.path.dirname(cwd)\n",
    "os.chdir(nwd)"
   ]
  },
  {
   "cell_type": "code",
   "execution_count": null,
   "metadata": {},
   "outputs": [],
   "source": [
    "%load_ext autoreload\n",
    "%autoreload 2\n",
    "import numpy as np\n",
    "from sklearn.linear_model import LinearRegression\n",
    "from ghostSHAP.ghost_shap import GhostShap\n",
    "import shap"
   ]
  },
  {
   "cell_type": "code",
   "execution_count": null,
   "metadata": {},
   "outputs": [],
   "source": [
    "# Generate data to train the model\n",
    "np.random.seed(seed=5)\n",
    "n = 10000\n",
    "intercept = 0\n",
    "beta_1 = 2\n",
    "beta_2 = 1\n",
    "beta_3 = 0\n",
    "beta_13 = 1\n",
    "beta_23 = 0\n",
    "x_1 = np.random.normal(loc=0, scale=1, size=n)\n",
    "x_2 = np.random.normal(loc=0, scale=1, size=n)\n",
    "noise_3 = np.random.normal(loc=0, scale=0.1, size=n)\n",
    "# Is it needed to add noise_3 to x_3?\n",
    "x_3 = beta_13 * x_1 + beta_23 * x_2 + noise_3\n",
    "noise_y = np.random.normal(loc=0, scale=1, size=n)\n",
    "y = intercept + beta_1 * x_1 + beta_2 * x_2 + beta_3 * x_3 + noise_y\n",
    "X = np.empty(shape=(n, 3))\n",
    "X[:, 0] = x_1\n",
    "X[:, 1] = x_2\n",
    "X[:, 2] = x_3\n",
    "print(X[:5, ])"
   ]
  },
  {
   "cell_type": "code",
   "execution_count": null,
   "metadata": {},
   "outputs": [],
   "source": [
    "# Generate data to test the method\n",
    "np.random.seed(seed=9)\n",
    "x_1_test = np.random.normal(loc=0, scale=1, size=n)\n",
    "x_2_test = np.random.normal(loc=0, scale=1, size=n)\n",
    "noise_3_test = np.random.normal(loc=0, scale=0.1, size=n)\n",
    "# Is it needed to add noise to x_3_test?\n",
    "x_3_test = beta_13 * x_1_test + beta_23 * x_2_test + noise_3_test\n",
    "X_test = np.empty(shape=(n, 3))\n",
    "X_test[:, 0] = x_1_test\n",
    "X_test[:, 1] = x_2_test\n",
    "X_test[:, 2] = x_3_test\n",
    "print(np.mean(X_test, axis=0))\n",
    "np.mean(x_1_test)"
   ]
  },
  {
   "cell_type": "code",
   "execution_count": null,
   "metadata": {},
   "outputs": [],
   "source": [
    "# Train the model\n",
    "linear_model = LinearRegression(fit_intercept=True).fit(X, y)"
   ]
  },
  {
   "cell_type": "code",
   "execution_count": null,
   "metadata": {},
   "outputs": [],
   "source": [
    "print('Intercept:', linear_model.intercept_)\n",
    "print('Parameters:', linear_model.coef_)"
   ]
  },
  {
   "cell_type": "code",
   "execution_count": null,
   "metadata": {},
   "outputs": [],
   "source": [
    "# New point to explain\n",
    "x_new = np.array([[1, 10, 1]])"
   ]
  },
  {
   "cell_type": "code",
   "execution_count": null,
   "metadata": {},
   "outputs": [],
   "source": [
    "# Use ghost Shap\n",
    "ghost_shap = GhostShap(\n",
    "    predict_fn=linear_model.predict,\n",
    "    data=X_test,\n",
    "    x_test=x_new\n",
    ")\n",
    "importance = ghost_shap.get_importance()"
   ]
  },
  {
   "cell_type": "code",
   "execution_count": null,
   "metadata": {},
   "outputs": [],
   "source": [
    "print('importance:', importance)\n",
    "print('sum(importance):', np.sum(importance))\n",
    "print('prediction:', linear_model.predict(x_new))\n",
    "print('prediction - mean_predicted_value:', linear_model.predict(x_new) - np.mean(linear_model.predict(X_test)))"
   ]
  },
  {
   "cell_type": "code",
   "execution_count": null,
   "metadata": {},
   "outputs": [],
   "source": [
    "# SHAP\n",
    "#explainer = shap.Explainer(model)\n",
    "#shap_values = explainer(X)\n",
    "explainer = shap.KernelExplainer(linear_model.predict, X_test)\n",
    "shap_values = explainer.explain(x_new)\n",
    "print('shap_values:', shap_values)\n",
    "print('sum(shap):', np.sum(shap_values))\n",
    "print('prediction:', linear_model.predict(x_new))\n",
    "print('prediction - mean_predicted_value:', linear_model.predict(x_new) - np.mean(linear_model.predict(X_test)))"
   ]
  },
  {
   "cell_type": "code",
   "execution_count": null,
   "metadata": {},
   "outputs": [],
   "source": [
    "# Distance\n",
    "diff_shap = [beta_1 - shap_values[0], beta_2 - shap_values[1], beta_3 - shap_values[2]]\n",
    "print(diff_shap)\n",
    "np.sum(np.square(diff_shap))"
   ]
  },
  {
   "cell_type": "code",
   "execution_count": null,
   "metadata": {},
   "outputs": [],
   "source": [
    "import xgboost\n",
    "import shap"
   ]
  },
  {
   "cell_type": "code",
   "execution_count": null,
   "metadata": {},
   "outputs": [],
   "source": [
    "\n",
    "# train an XGBoost model\n",
    "X, y = shap.datasets.boston()\n",
    "model = xgboost.XGBRegressor().fit(X, y)\n",
    "\n",
    "# explain the model's predictions using SHAP\n",
    "# (same syntax works for LightGBM, CatBoost, scikit-learn, transformers, Spark, etc.)\n",
    "explainer = shap.Explainer(model)\n",
    "shap_values = explainer(X)\n",
    "\n",
    "# visualize the first prediction's explanation\n",
    "#shap.plots.waterfall(shap_values[0])"
   ]
  },
  {
   "cell_type": "code",
   "execution_count": null,
   "metadata": {},
   "outputs": [],
   "source": [
    "shap_val = shap_values[0]\n",
    "shap_val = shap_val.values\n",
    "print('np.sum(shap_val):', np.sum(shap_val))\n",
    "pred_all = model.predict(X)\n",
    "pred_element = pred_all[0]\n",
    "mean_pred_val = np.mean(pred_all)\n",
    "print('pred_element:', pred_element)\n",
    "print('mean_pred_val:', mean_pred_val)\n",
    "print(pred_element - mean_pred_val)\n"
   ]
  }
 ],
 "metadata": {
  "kernelspec": {
   "display_name": "Python 3.9.7 ('.ghostSHAP': venv)",
   "language": "python",
   "name": "python3"
  },
  "language_info": {
   "codemirror_mode": {
    "name": "ipython",
    "version": 3
   },
   "file_extension": ".py",
   "mimetype": "text/x-python",
   "name": "python",
   "nbconvert_exporter": "python",
   "pygments_lexer": "ipython3",
   "version": "3.9.7"
  },
  "orig_nbformat": 4,
  "vscode": {
   "interpreter": {
    "hash": "23c677cf914576091b520cc422ffbc9328a4ac0579b601aa498faf34de7178e1"
   }
  }
 },
 "nbformat": 4,
 "nbformat_minor": 2
}
