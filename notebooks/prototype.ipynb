{
 "cells": [
  {
   "cell_type": "code",
   "execution_count": null,
   "id": "bf0aaa05-903c-4c7a-b817-d70586126764",
   "metadata": {},
   "outputs": [],
   "source": [
    "import os\n",
    "cwd = os.getcwd()\n",
    "nwd = os.path.dirname(cwd)\n",
    "os.chdir(nwd)"
   ]
  },
  {
   "cell_type": "code",
   "execution_count": null,
   "id": "42cddb45",
   "metadata": {},
   "outputs": [],
   "source": [
    "%load_ext autoreload\n",
    "%autoreload 2\n",
    "import numpy as np\n",
    "from sklearn.linear_model import LinearRegression\n",
    "from ghostSHAP.ghost_shap import GhostShap"
   ]
  },
  {
   "cell_type": "code",
   "execution_count": null,
   "id": "01b3d9c0-33a6-482f-a13e-57041c244fbf",
   "metadata": {},
   "outputs": [],
   "source": [
    "# Generate data\n",
    "np.random.seed(seed=5)\n",
    "p = 10\n",
    "n = 1000\n",
    "total_subsets = 2 ** p\n",
    "total_individuals = total_subsets\n",
    "ones = np.full(shape=(n, 1), fill_value=1)\n",
    "X = np.random.normal(loc=0, scale=1, size=(n, p))\n",
    "\n",
    "X_intercept = np.concatenate((ones, X), axis=1)\n",
    "beta = np.reshape(np.arange(1, p+2), newshape=(p+1, 1))\n",
    "#beta = beta[[0, 2, 1], :]\n",
    "y = np.matmul(X_intercept, beta) + np.random.normal(loc=0, scale=1, size=(n, 1))\n",
    "beta_hat = np.matmul(np.matmul(np.linalg.inv(np.matmul(X_intercept.T, X_intercept)), X_intercept.T), y)\n",
    "print('X: \\n', X[:3, ])\n",
    "print('beta_real:\\n', beta)\n",
    "print('beta_hat:\\n', beta_hat)"
   ]
  },
  {
   "cell_type": "code",
   "execution_count": null,
   "id": "9da023e7-0131-4056-87ba-bab9f183a01c",
   "metadata": {},
   "outputs": [],
   "source": [
    "# Point to be described\n",
    "x_new = np.full(shape=(1, p), fill_value=2)\n",
    "x_new_intercept = np.concatenate((np.array([1], ndmin=2), x_new), axis=1)\n",
    "print(x_new_intercept)"
   ]
  },
  {
   "cell_type": "code",
   "execution_count": null,
   "id": "dd8b0eda-4fe8-417e-acbe-3e8fc5ad5725",
   "metadata": {},
   "outputs": [],
   "source": [
    "# Black box model\n",
    "linear_model = LinearRegression(fit_intercept=True)\n",
    "linear_model = linear_model.fit(X, y)"
   ]
  },
  {
   "cell_type": "code",
   "execution_count": null,
   "id": "b7fe2a85-5d92-4dfd-9967-c25ed6d54d0c",
   "metadata": {},
   "outputs": [],
   "source": [
    "print('real betas:\\n', beta)\n",
    "print('intercept:', linear_model.intercept_)\n",
    "print('coef:', linear_model.coef_)\n",
    "print('real vale for x_new:', np.dot(x_new_intercept, beta))\n",
    "print('predicted value for x_new:', linear_model.predict(x_new))"
   ]
  },
  {
   "cell_type": "code",
   "execution_count": null,
   "id": "e0973f3e-71cc-4c8d-901f-d03df045cdb8",
   "metadata": {},
   "outputs": [],
   "source": [
    "ghost_shap = GhostShap(\n",
    "    predict_fn=linear_model.predict,\n",
    "    data=X,\n",
    "    x_test=x_new\n",
    ")\n",
    "importance = ghost_shap.get_importance()"
   ]
  },
  {
   "cell_type": "code",
   "execution_count": null,
   "id": "1145c8ae-4a94-4d70-a673-b51ec61525e0",
   "metadata": {},
   "outputs": [],
   "source": [
    "print('individual importance:\\n', importance)\n",
    "print('aggregated importnace:\\n', np.sum(importance))\n",
    "x_new_beta = [x * b for x, b in zip(x_new[0], beta[1:])]\n",
    "print('x_new * beta:\\n', x_new_beta)\n",
    "print('predicted value for x_new - mean value:\\n', linear_model.predict(x_new) - np.mean(linear_model.predict(X)))"
   ]
  }
 ],
 "metadata": {
  "kernelspec": {
   "display_name": "ghostSHAP",
   "language": "python",
   "name": "ghostshap"
  },
  "language_info": {
   "codemirror_mode": {
    "name": "ipython",
    "version": 3
   },
   "file_extension": ".py",
   "mimetype": "text/x-python",
   "name": "python",
   "nbconvert_exporter": "python",
   "pygments_lexer": "ipython3",
   "version": "3.9.7"
  }
 },
 "nbformat": 4,
 "nbformat_minor": 5
}
